{
 "cells": [
  {
   "cell_type": "code",
   "execution_count": 4,
   "metadata": {},
   "outputs": [],
   "source": [
    "import random\n",
    "import numpy as np\n",
    "\n",
    "def create_team(name, attack, defense):\n",
    "        return {'name': name, 'attack': attack, 'defense': defense}\n",
    "\n",
    "def simulation(name1, name2, team1_attack,team1_defense, team2_attack, team2_defense):\n",
    "    team1 = create_team(name1, team1_attack, team1_defense)\n",
    "    team2 = create_team(name2, team2_attack, team2_defense)\n",
    "    team1_total_goals = []\n",
    "    team2_total_goals = []\n",
    "    win1 = 0\n",
    "    win2 = 0\n",
    "    draw = 0\n",
    "\n",
    "    for _ in range(1000):\n",
    "        time = 0\n",
    "        score1 = 0\n",
    "        score2 = 0\n",
    "\n",
    "        if random.random() < 0.5:\n",
    "            attacking_team = team1\n",
    "            defending_team = team2\n",
    "        else:\n",
    "            attacking_team = team2\n",
    "            defending_team = team1\n",
    "\n",
    "        while time < 90:\n",
    "            time += random.randint(1, 5) # Random amount of time passes (1-5 minutes)\n",
    "\n",
    "            luck = random.uniform(0.5, 1.5) # Random factor (\"luck\")\n",
    "            if random.random() < 0.05 * luck * (attacking_team['attack'] / (attacking_team['attack'] + defending_team['defense'])):\n",
    "                if attacking_team == team1:\n",
    "                    score1 += 1\n",
    "                    # print(f\"{team1['name']} scores at minute {time}!\")\n",
    "                else:\n",
    "                    score2 += 1\n",
    "                    # print(f\"{team2['name']} scores at minute {time}!\")\n",
    "                    goal_prob = 0.05 # Reset goal probability after a goal is scored\n",
    "\n",
    "            # Switch the attacking and defending teams\n",
    "            attacking_team, defending_team = defending_team, attacking_team\n",
    "\n",
    "\n",
    "    # Print the final score\n",
    "        # print(f\"Full time: {team1['name']} {score1} - {score2} {team2['name']}\")\n",
    "\n",
    "        if score1 > score2:\n",
    "            win1 += 1\n",
    "        elif score2 > score1:\n",
    "            win2 += 1\n",
    "        else:\n",
    "            draw += 1\n",
    "\n",
    "\n",
    "        team1_total_goals.append(score1)\n",
    "        team2_total_goals.append(score2)\n",
    "    print(f\"{name1} Summry\")\n",
    "    print(\"Avg # of goals: \", np.mean(team1_total_goals), \" with sd: \", np.std(team1_total_goals))\n",
    "    print(f\"{name2} Summry\")\n",
    "    print(\"Avg # of goals: \", np.mean(team2_total_goals), \" with sd: \", np.std(team2_total_goals))\n",
    "    print(f\"{name1} wins: {win1} \\n {name2} wins: {win2} \\n draw: {draw} \\n\")\n",
    "\n"
   ]
  },
  {
   "cell_type": "code",
   "execution_count": 23,
   "metadata": {},
   "outputs": [
    {
     "name": "stdout",
     "output_type": "stream",
     "text": [
      "City Summry\n",
      "Avg # of goals:  0.38  with sd:  0.6415605972938176\n",
      "United Summry\n",
      "Avg # of goals:  0.415  with sd:  0.6170696881228246\n",
      "City wins: 232 \n",
      " United wins: 270 \n",
      " draw: 498 \n",
      "\n"
     ]
    }
   ],
   "source": [
    "simulation(\"City\",\"United\",99,80,90,90)"
   ]
  },
  {
   "cell_type": "code",
   "execution_count": null,
   "metadata": {},
   "outputs": [],
   "source": []
  }
 ],
 "metadata": {
  "kernelspec": {
   "display_name": "epl",
   "language": "python",
   "name": "python3"
  },
  "language_info": {
   "codemirror_mode": {
    "name": "ipython",
    "version": 3
   },
   "file_extension": ".py",
   "mimetype": "text/x-python",
   "name": "python",
   "nbconvert_exporter": "python",
   "pygments_lexer": "ipython3",
   "version": "3.9.13 (main, Aug 25 2022, 23:51:50) [MSC v.1916 64 bit (AMD64)]"
  },
  "orig_nbformat": 4,
  "vscode": {
   "interpreter": {
    "hash": "fee99c3f1f4d69cbe26f4352a316de8eb4a016315168f94bdad95a651f195ab5"
   }
  }
 },
 "nbformat": 4,
 "nbformat_minor": 2
}
